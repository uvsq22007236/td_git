{
 "cells": [
  {
   "cell_type": "markdown",
   "metadata": {},
   "source": [
    "# TD Git : faire un projet à plusieurs"
   ]
  },
  {
   "cell_type": "markdown",
   "metadata": {},
   "source": [
    "---\n",
    "L'idée de ce TD consiste à apprendre à manipuler Git, et non nécessairement à finir le projet décrit ci-dessous. Il faut tout simplement qu'à la fin du TD, vous schaiez taper les commandes git vues en cours, et que vous ayez vus des conflits ainsi leur gestion. Par conséquent, il faudra s'amuser à add-commit-pull-push fréquemment, dans le but de faire resurgir des erreurs, puis de demander à vos chargés de TD de vous aider avec. N'hésitez donc pas à jouer avec les commandes git. si le sujet n'est pas fini ce n'est pas grave, le sujet n'est là que pour avoir de la matière pour pouvoir faire des commit.\n",
    "\n",
    "Le chargé de TD doit vous mettre dans des salles zoom par groupe de 2, si le nombre d'étudiants est impair, il y a un groupe de 3, où le rôle de B est dédoublé.\n",
    "\n",
    "## 1.Premier pas avec Git\n",
    "\n",
    "Vous avez normalement un compte GitHub. Vérifiez que vous pouvez vous y connecter. Choisissez un partenaire avec qui vous allez faire ce TD. Installez git si ce n'est pas déjà fait (normalement ca devrait l'être pour avoir accès au cours). Assurez-vous de pouvoir lancer le bash.\n",
    "\n",
    "1.  Configurez les couleurs de git ansi que votre pseudo. Créez un répertoire intitulé gitProjects dans votre ordinateur.\n",
    "\n",
    "2. Vous êtes donc par deux. Une personne A et une personne B. Dans ce TD, certaines actions seront à réaliser par A et/ou par B. Décidez donc maintenant qui est A et qui est B.\n",
    "\n",
    "3. A crée un nouveau projet intitulé td_git sous GitHub, en se connectant à son compte. A invite B (toujours sous GitHub) à participer au projet\n",
    "\n",
    "4. En créant un nouveau projet, GitHub propose d'initialiser le dépot avec un README. Faites le et remplissez le README en expliquant que ce projet est une calculatrice simple réalisée en python avec Tkinter. N'ajoutez pas de gitignore ou de licence.\n",
    "\n",
    "5. B accepte l'invitation à participer au projet de A. À cette étape, A et B ont les droits sur le projet. \n",
    "\n",
    "6. Réalisez (A et B) votre premier clone du projet comme vu en cours, avec le protocole HTTPS.\n",
    "\n",
    "7. B rajoute dans le dépot git, via la ligne de commande et ayant copié le fichier projet.ipynb (celui là) dans le bon dossier. C'est votre premier commit + push. Entre chaque opération, faites git status.\n",
    "\n",
    "8. A réalise son premier pull ! Maintenant, le fichier du TD est dans le dépot Git, vous pouvez travailler dessus séparément et localement."
   ]
  },
  {
   "cell_type": "markdown",
   "metadata": {},
   "source": [
    "---\n",
    "## 2.Début du projet: l'interface\n",
    "\n",
    "Nous allons donc réaliser une calculatrice simple en Python, c'est à dire une interface graphique, avec des boutons représentant les chiffres de 0 à 9, ainsi que la possibilité de réaliser les opérations de base d'une calculatrice. À la fin, seul le code qui fonctionne doit être présent dans le Git dans un fichier avec l'extension .py. Seul ce fichier .py doit être déposé et mis à jour dans votre dépôt git. Un schémas décrivant brièvement l'interface voulue se situe dans le même dossier que ce notebook, dans le dépôt git du cours.\n",
    "\n",
    "7. Travail de A: après avoir dicuté à deux sur la manière de coder cela, partagez vous le travail jusqu'à avoir l'interface complète (l'ensemble des widgets nécessaires à la calculatrice). Programmez uniquement l'interface. N'oubliez pas de commit et de push quelques fois, afin que B puisse commencer à travailler de son côté.\n"
   ]
  },
  {
   "cell_type": "markdown",
   "metadata": {},
   "source": [
    "8. Travail de B: pendant que A réalise petit à petit l'interface et identifie les widget, commencez à réaliser les fonctions associées aux widget. Que doit réaliser l'action \"appuyer sur le 0\", appuyer sur le \"+\", ... N'oubliez pas non plus de tester, et de commit, et de pull pour réaliser un travail cohérant avec A"
   ]
  },
  {
   "cell_type": "markdown",
   "metadata": {},
   "source": [
    "9. (optionnel, très avancé) Générez une clef ssh et ajoutez là à votre compte GitHub, afin de pouvoir pull et push sans avoir à donner votre nom d'utilisateur et mot de passe (il faut aussi changer d'url de dépot git).\n",
    "\n",
    "Tout ce qui suit doit être réalisé à deux, c'est à vous de vous organiser.\n",
    "\n",
    "10. Continuez jusqu'à avoir une calculatrice qui fait les choses suivantes: \n",
    "    - Il y a 10 boutons de numéros (0 à 9), quand on clique dessus, cela modifie une variable (c'est l'opérande en cours)\n",
    "    - Il y a 4 boutons (+, -, *, /) qui, quand on clique dessus permettent de définir la deuxième opérande (qui le sera en cliquant sur les boutons\n",
    "    - Il y a une zone qui affiche le calcul en cours, et qui donne le résultat quand on clique sur le bouton =\n",
    "    - Rajouter un bouton \"Effacer\" qui permet à l'utilisateur de réinitialiser l'affichage et les variables, pour pouvoir recommencer un nouveau calcul."
   ]
  },
  {
   "cell_type": "markdown",
   "metadata": {},
   "source": [
    "11. Quand vous avez fini cela, améliorez votre code pour pouvoir travailler sur des nombres flottants (il faut rajouter un bouton)."
   ]
  },
  {
   "cell_type": "markdown",
   "metadata": {},
   "source": [
    "12. Modifiez votre code pour pouvoir taper les numéros ou bien avec la souris en cliquant sur les boutons, ou bien en tapant sur le clavier."
   ]
  },
  {
   "cell_type": "raw",
   "metadata": {},
   "source": [
    "12. S'il vous reste du temps, rajoutez des boutons qui permettent d'afficher (tracer les courbes) lorsque l'on clique sur les boutons appropriés les fonctions suivantes:\n",
    "    - La fonction x -> x^2\n",
    "    - La fonction racine carrée\n",
    "    - La fonction logarithme\n",
    "    - La fonction exponentielle"
   ]
  },
  {
   "cell_type": "code",
   "execution_count": 2,
   "metadata": {},
   "outputs": [
    {
     "output_type": "error",
     "ename": "NameError",
     "evalue": "name 'button1' is not defined",
     "traceback": [
      "\u001b[1;31m---------------------------------------------------------------------------\u001b[0m",
      "\u001b[1;31mNameError\u001b[0m                                 Traceback (most recent call last)",
      "\u001b[1;32m<ipython-input-2-36a36405b84b>\u001b[0m in \u001b[0;36m<module>\u001b[1;34m\u001b[0m\n\u001b[0;32m      6\u001b[0m \u001b[1;33m\u001b[0m\u001b[0m\n\u001b[0;32m      7\u001b[0m \u001b[1;33m\u001b[0m\u001b[0m\n\u001b[1;32m----> 8\u001b[1;33m \u001b[0mbutton1\u001b[0m \u001b[1;33m=\u001b[0m \u001b[0mtk\u001b[0m\u001b[1;33m.\u001b[0m\u001b[0mButton\u001b[0m\u001b[1;33m(\u001b[0m\u001b[0mracine\u001b[0m\u001b[1;33m,\u001b[0m \u001b[0mtext\u001b[0m \u001b[1;33m=\u001b[0m \u001b[1;34m\"1\"\u001b[0m\u001b[1;33m,\u001b[0m \u001b[0mfg\u001b[0m\u001b[1;33m=\u001b[0m\u001b[1;34m\"blue\"\u001b[0m\u001b[1;33m,\u001b[0m \u001b[0mpadx\u001b[0m\u001b[1;33m=\u001b[0m\u001b[1;36m20\u001b[0m\u001b[1;33m,\u001b[0m \u001b[0mfont\u001b[0m\u001b[1;33m=\u001b[0m\u001b[1;33m(\u001b[0m\u001b[1;34m\"Times\"\u001b[0m\u001b[1;33m,\u001b[0m \u001b[1;34m\"20\"\u001b[0m\u001b[1;33m)\u001b[0m\u001b[1;33m,\u001b[0m \u001b[0mcommand\u001b[0m \u001b[1;33m=\u001b[0m \u001b[0mbutton1\u001b[0m\u001b[1;33m)\u001b[0m\u001b[1;33m\u001b[0m\u001b[1;33m\u001b[0m\u001b[0m\n\u001b[0m\u001b[0;32m      9\u001b[0m \u001b[0mbutton2\u001b[0m \u001b[1;33m=\u001b[0m \u001b[0mtk\u001b[0m\u001b[1;33m.\u001b[0m\u001b[0mButton\u001b[0m\u001b[1;33m(\u001b[0m\u001b[0mracine\u001b[0m\u001b[1;33m,\u001b[0m \u001b[0mtext\u001b[0m \u001b[1;33m=\u001b[0m \u001b[1;34m\"2\"\u001b[0m\u001b[1;33m,\u001b[0m \u001b[0mfg\u001b[0m\u001b[1;33m=\u001b[0m\u001b[1;34m\"blue\"\u001b[0m\u001b[1;33m,\u001b[0m \u001b[0mpadx\u001b[0m\u001b[1;33m=\u001b[0m\u001b[1;36m20\u001b[0m\u001b[1;33m,\u001b[0m \u001b[0mfont\u001b[0m\u001b[1;33m=\u001b[0m\u001b[1;33m(\u001b[0m\u001b[1;34m\"Times\"\u001b[0m\u001b[1;33m,\u001b[0m \u001b[1;34m\"20\"\u001b[0m\u001b[1;33m)\u001b[0m\u001b[1;33m,\u001b[0m \u001b[0mcommand\u001b[0m \u001b[1;33m=\u001b[0m \u001b[0mbutton2\u001b[0m\u001b[1;33m)\u001b[0m\u001b[1;33m\u001b[0m\u001b[1;33m\u001b[0m\u001b[0m\n\u001b[0;32m     10\u001b[0m \u001b[0mbutton3\u001b[0m \u001b[1;33m=\u001b[0m\u001b[0mtk\u001b[0m\u001b[1;33m.\u001b[0m\u001b[0mButton\u001b[0m\u001b[1;33m(\u001b[0m\u001b[0mracine\u001b[0m\u001b[1;33m,\u001b[0m \u001b[0mtext\u001b[0m \u001b[1;33m=\u001b[0m \u001b[1;34m\"3\"\u001b[0m\u001b[1;33m,\u001b[0m \u001b[0mfg\u001b[0m\u001b[1;33m=\u001b[0m\u001b[1;34m\"blue\"\u001b[0m\u001b[1;33m,\u001b[0m \u001b[0mpadx\u001b[0m\u001b[1;33m=\u001b[0m\u001b[1;36m20\u001b[0m\u001b[1;33m,\u001b[0m \u001b[0mfont\u001b[0m\u001b[1;33m=\u001b[0m\u001b[1;33m(\u001b[0m\u001b[1;34m\"Times\"\u001b[0m\u001b[1;33m,\u001b[0m \u001b[1;34m\"20\"\u001b[0m\u001b[1;33m)\u001b[0m\u001b[1;33m,\u001b[0m \u001b[0mcommand\u001b[0m \u001b[1;33m=\u001b[0m \u001b[0mbutton3\u001b[0m\u001b[1;33m)\u001b[0m\u001b[1;33m\u001b[0m\u001b[1;33m\u001b[0m\u001b[0m\n",
      "\u001b[1;31mNameError\u001b[0m: name 'button1' is not defined"
     ]
    }
   ],
   "source": [
    "import tkinter as tk\n",
    "\n",
    "racine = tk.Tk()\n",
    "\n",
    "canvas = tk.Canvas(racine, width = 500,  height= 700, bg = \"black\")\n",
    "\n",
    "\n",
    "button1 = tk.Button(racine, text = \"1\", fg=\"blue\", padx=20, font=(\"Times\", \"20\"), command = button1)\n",
    "button2 = tk.Button(racine, text = \"2\", fg=\"blue\", padx=20, font=(\"Times\", \"20\"), command = button2)\n",
    "button3 =tk.Button(racine, text = \"3\", fg=\"blue\", padx=20, font=(\"Times\", \"20\"), command = button3)\n",
    "button4 =tk.Button(racine, text = \"4\", fg=\"blue\", padx=20, font=(\"Times\", \"20\"), command = button4)\n",
    "button5 =tk.Button(racine, text = \"5\", fg=\"blue\", padx=20, font=(\"Times\", \"20\"), command = button5)\n",
    "button6 =tk.Button(racine, text = \"6\", fg=\"blue\", padx=20, font=(\"Times\", \"20\"), command = button6)\n",
    "button7 =tk.Button(racine, text = \"7\", fg=\"blue\", padx=20, font=(\"Times\", \"20\"), command = button7)\n",
    "button8 =tk.Button(racine, text = \"8\", fg=\"blue\", padx=20, font=(\"Times\", \"20\"), command = button8)\n",
    "button9 =tk.Button(racine, text = \"9\", fg=\"blue\", padx=20, font=(\"Times\", \"20\"), command = button9)\n",
    "\n",
    "\n",
    "\n",
    "button1.grid (row=2, column=0)\n",
    "button2.grid (row=2, column=1)\n",
    "button3.grid (row= 2, column=2)\n",
    "button4.grid (row= 3, column=0)\n",
    "button5.grid (row= 3, column=1)\n",
    "button6.grid (row= 3, column=2)\n",
    "button7.grid (row= 4, column=0)\n",
    "button8.grid (row= 4, column=1)\n",
    "button9.grid (row= 4, column=2)\n",
    "canvas.grid(row = 1, column = 1, rowspan= 3)\n",
    "\n",
    "\n",
    "racine.mainloop"
   ]
  },
  {
   "cell_type": "code",
   "execution_count": null,
   "metadata": {},
   "outputs": [],
   "source": []
  }
 ],
 "metadata": {
  "kernelspec": {
   "name": "python3",
   "display_name": "Python 3.8.5 32-bit",
   "metadata": {
    "interpreter": {
     "hash": "358817a1534ee0ddac84841ad7ebd3360af0e59dff7bf0187040d28698b89578"
    }
   }
  },
  "language_info": {
   "codemirror_mode": {
    "name": "ipython",
    "version": 3
   },
   "file_extension": ".py",
   "mimetype": "text/x-python",
   "name": "python",
   "nbconvert_exporter": "python",
   "pygments_lexer": "ipython3",
   "version": "3.8.5-final"
  }
 },
 "nbformat": 4,
 "nbformat_minor": 1
}